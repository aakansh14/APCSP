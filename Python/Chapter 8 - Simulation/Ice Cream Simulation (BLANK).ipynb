{
 "cells": [
  {
   "cell_type": "markdown",
   "metadata": {},
   "source": [
    "# Simulation Practice\n",
    "* Based on sales, frozen yogurt flavors have the following relative frequencies: \n",
    " * 38% chocolate\n",
    " * 42% vanilla\n",
    " * 20% strawberry\n",
    "    \n",
    "# Suppose a group of 5 customers comes into the store to purchase yogurt.  What is the probability that at least two of them choose chocolate?"
   ]
  },
  {
   "cell_type": "markdown",
   "metadata": {},
   "source": [
    "### Simulating a single customer\n",
    "* Generate a random integer between 1 and 100 to simulate their ice cream choice\n",
    " * #'s 1-38 represent purchasing chocolate\n",
    "      * 38% chance\n",
    " * #'s 39-80 represent purchasing vanilla\n",
    "      * 42% chance\n",
    " * #'s 81-100 represent purchasing Strawberry\n",
    "      * 20% chance"
   ]
  },
  {
   "cell_type": "code",
   "execution_count": 1,
   "metadata": {},
   "outputs": [
    {
     "name": "stdout",
     "output_type": "stream",
     "text": [
      "Strawberry\n"
     ]
    }
   ],
   "source": [
    "# import the numpy package\n",
    "import numpy\n",
    "\n",
    "# Generate random number between 1-100\n",
    "single_customer = numpy.random.randint(1,101)\n",
    "\n",
    "# Test the percentage ranges\n",
    "if single_customer <= 38:\n",
    "    print(\"Chocolate\")\n",
    "elif single_customer <= 80:\n",
    "    print(\"Vanilla\")\n",
    "else:\n",
    "    print(\"Strawberry\")"
   ]
  },
  {
   "cell_type": "markdown",
   "metadata": {},
   "source": [
    "#### Copy and paste code into a function\n",
    "* Return a String of the ice cream chosen\n",
    "* Abstraction!"
   ]
  },
  {
   "cell_type": "code",
   "execution_count": 2,
   "metadata": {},
   "outputs": [],
   "source": [
    "# Create function to simulate a single customer\n",
    "def single_customer_trial():\n",
    "    # Generate random number between 1-100\n",
    "    single_customer = numpy.random.randint(1,101)\n",
    "\n",
    "    # Test the percentage ranges\n",
    "    if single_customer <= 38:\n",
    "        return \"Chocolate\"\n",
    "    elif single_customer <= 80:\n",
    "        return \"Vanilla\"\n",
    "    else:\n",
    "        return \"Strawberry\""
   ]
  },
  {
   "cell_type": "code",
   "execution_count": 3,
   "metadata": {},
   "outputs": [
    {
     "name": "stdout",
     "output_type": "stream",
     "text": [
      "Chocolate\n"
     ]
    }
   ],
   "source": [
    "# Call the function and print its return value to verify it works!\n",
    "print(single_customer_trial())"
   ]
  },
  {
   "cell_type": "markdown",
   "metadata": {},
   "source": [
    "### Simulate a single trail of 5 customers\n",
    "* Create three variables for Chocolate, Vanilla, and Strawberry counts\n",
    "* Repeat 5 times\n",
    "    * Execute a single trial\n",
    "    * Check which ice cream was chosen\n",
    "    * Update variable appropriately\n",
    "* Return \"true\" if chocolate's count is 2 or higher, false otherwise"
   ]
  },
  {
   "cell_type": "code",
   "execution_count": 4,
   "metadata": {},
   "outputs": [
    {
     "name": "stdout",
     "output_type": "stream",
     "text": [
      "True\n"
     ]
    }
   ],
   "source": [
    "# Create variables\n",
    "chocolate = 0\n",
    "vanilla = 0\n",
    "strawberry= 0\n",
    "\n",
    "# For loop\n",
    "for i in range(5):\n",
    "    customer_choice = single_customer_trial()\n",
    "    if customer_choice == \"Chocolate\":\n",
    "        chocolate += 1\n",
    "    elif customer_choice == \"Vanilla\":\n",
    "        vanilla += 1\n",
    "    else:\n",
    "        strawberry += 1\n",
    "        \n",
    "# Print the end result of ice cream choices\n",
    "# print(chocolate, vanilla, strawberry)\n",
    "\n",
    "# Print whether chocolate was chosen at least twice\n",
    "if chocolate >=2:\n",
    "    print(True)\n",
    "else:\n",
    "    print(False)"
   ]
  },
  {
   "cell_type": "markdown",
   "metadata": {},
   "source": [
    "#### Copy and paste code into a function\n",
    "* Return true/false whether chocolate was chosen at least twice\n",
    "* Abstraction!"
   ]
  },
  {
   "cell_type": "code",
   "execution_count": 5,
   "metadata": {},
   "outputs": [],
   "source": [
    "# Create function to simulate 5 customers\n",
    "def five_customer_trial():\n",
    "    # Create variables\n",
    "    chocolate = 0\n",
    "    vanilla = 0\n",
    "    strawberry= 0\n",
    "\n",
    "    # For loop\n",
    "    for i in range(5):\n",
    "        customer_choice = single_customer_trial()\n",
    "        if customer_choice == \"Chocolate\":\n",
    "            chocolate += 1\n",
    "        elif customer_choice == \"Vanilla\":\n",
    "            vanilla += 1\n",
    "        else:\n",
    "            strawberry += 1\n",
    "\n",
    "    # Print the end result of ice cream choices\n",
    "    # print(chocolate, vanilla, strawberry)\n",
    "\n",
    "    # Print whether chocolate was chosen at least twice\n",
    "    if chocolate >=2:\n",
    "        return True\n",
    "    else:\n",
    "        return False"
   ]
  },
  {
   "cell_type": "code",
   "execution_count": 6,
   "metadata": {},
   "outputs": [
    {
     "name": "stdout",
     "output_type": "stream",
     "text": [
      "False\n"
     ]
    }
   ],
   "source": [
    "# Call the function and print its return value to verify it works!\n",
    "print(five_customer_trial())"
   ]
  },
  {
   "cell_type": "markdown",
   "metadata": {},
   "source": [
    "### Finding the probabilty that if 5 customers come in, at least two of them purchase chocolate\n",
    "* Create an array to hold your results\n",
    "* Create a loop to run 10000 times\n",
    "    * Add result of each 5-customer trial to the array"
   ]
  },
  {
   "cell_type": "code",
   "execution_count": 9,
   "metadata": {
    "scrolled": true
   },
   "outputs": [
    {
     "name": "stdout",
     "output_type": "stream",
     "text": [
      "[True, True, True, False, False, False, False, True, True, False, True, False, True, True, True, True, True, False, False, True, True, True, False, True, True, True, False, True, False, True, True, True, False, True, True, True, True, False, True, False, False, False, True, True, True, True, False, False, False, True, True, True, False, False, False, False, False, True, False, True, True, False, True, True, True, False, True, True, True, False, True, False, True, True, True, True, True, False, True, False, False, False, True, True, True, True, False, True, True, True, True, False, True, False, True, True, False, True, True, True, False, True, True, True, False, True, True, False, True, False, False, True, True, True, False, True, False, True, True, False, True, True, False, False, False, True, True, True, False, False, True, True, True, False, True, False, False, True, False, True, False, True, True, False, False, True, True, False, True, True, False, True, True, False, True, True, True, False, True, True, False, False, False, True, False, False, True, False, True, False, False, True, True, True, False, False, True, True, False, True, True, True, True, True, False, True, False, True, True, False, True, False, True, True, True, False, True, True, False, True, False, False, True, True, False, False, True, True, False, True, False, False, True, True, False, True, False, False, True, False, True, False, True, True, True, True, False, False, True, True, True, True, True, False, True, True, True, True, False, True, False, True, True, True, True, True, True, True, False, True, True, True, True, True, True, True, False, True, False, True, True, True, True, True, True, True, False, True, False, True, False, False, True, True, True, True, True, False, True, True, True, False, True, True, False, True, True, False, False, False, True, True, True, True, False, False, False, True, False, False, False, False, True, False, True, True, False, True, True, True, False, False, True, False, False, False, False, True, True, True, True, False, True, True, False, True, True, True, True, True, True, True, True, True, True, True, False, False, True, False, True, True, True, True, True, True, True, False, False, True, False, False, False, True, True, False, False, True, True, True, True, True, True, False, True, True, False, True, False, True, True, True, True, False, False, True, True, True, True, True, True, True, True, False, True, False, True, True, True, True, True, False, True, True, False, True, True, True, True, True, False, True, True, False, False, False, True, False, True, False, True, False, True, False, True, True, False, False, True, False, True, True, True, True, False, False, True, True, False, True, True, True, False, False, True, True, False, True, False, False, True, False, True, True, False, True, False, True, False, True, True, True, False, True, False, True, False, True, True, True, True, False, False, True, True, False, True, True, True, True, True, True, False, False, True, True, True, True, True, True, True, False, True, True, False, False, False, False, True, False, True, False, False, False, False, False, False, False, True, False, True, True, True, True, True, True, False, True, False, True, True, False, False, True, True, False, False, True, False, True, True, False, False, True, False, True, True, True, True, True, True, True, False, True, True, False, True, False, True, True, True, True, True, True, True, True, True, True, True, True, False, True, False, True, False, True, False, True, False, True, False, True, True, False, False, False, True, True, True, False, True, True, False, True, True, True, True, True, False, True, True, False, True, True, True, True, True, True, True, True, True, False, True, True, True, False, True, True, False, True, True, True, True, False, True, True, True, True, False, False, False, False, False, True, True, True, True, True, True, True, True, True, True, True, True, False, False, True, True, False, True, False, False, True, False, False, True, True, True, False, True, True, True, False, False, True, True, False, True, True, True, False, False, True, True, True, True, True, True, True, False, True, True, False, False, True, False, False, True, True, False, False, True, True, False, True, False, False, True, True, True, False, False, True, True, False, False, True, True, True, False, True, True, True, False, True, True, True, True, True, True, False, True, True, True, False, True, True, False, False, True, True, False, False, False, True, True, True, True, True, True, False, False, True, False, True, True, False, False, False, False, True, True, False, False, True, False, True, True, False, False, True, True, False, False, False, False, True, True, False, True, True, False, True, True, False, True, False, True, False, True, True, True, True, True, True, True, True, False, True, False, True, True, True, False, True, False, False, False, False, True, True, False, False, True, True, True, False, True, True, False, False, True, True, False, True, True, False, False, True, False, True, True, False, False, True, True, False, True, True, False, False, True, True, True, True, True, True, False, True, True, True, False, True, False, True, False, True, True, True, False, True, True, False, True, False, False, True, False, False, True, False, True, True, True, True, True, True, True, False, False, True, False, True, False, False, True, True, False, True, True, True, True, True, False, True, False, True, False, True, True, False, False, True, True, True, False, False, False, False, True, True, True, True, True, True, True, True, False, True, False, True, True, True, False, True, True, True, False, True, True, False, False, False, True, True, False, False, False, True, True, True, False, True, True, False, True, False, True, True, True, True, True, True, False, True, False, False, True, True, False, True, True, False, True, True, True, True, True, False, False, False, False, True, True, False, True, True, True, True, True, True, True, True, False, True, True, True, True, False, True, False, False, False, True, False, True, True, True, True, True, True, False, True, False, True, True, False, True, True, True, True, True, True, True, True, True, True, True, False, True, True, False, False, True, False, True, True, True, True, False, False, False, True, True, True, True, True, True, True, True, True, True, True, True, True, False, True, True, True, False, True, True, True, True, True, False, False, False, False, True, True, True, True, False, False, True, False, True, False, False, False, False, True, True, False, True, False, False, False, False, False, True, True, True, False, True, False, True, True, True, False, True, False, False, True, True, True, False, False, False, True, True, True, True, True, False, True, True, True, True, True, True, False, False, True, True, True, False, True, True, True, True, True, False, True, True, True, True, True, True, False, True, False, False, True, True, True, False, True, True, True, True, True, True, False, True, False, True, True, True, True, True, True, False, True, False, True, False, True, False, False, False, False, True, True, False, True, False, True, False, False, True, False, True, False, True, False, False, True, True, True, True, True, True, False, False, False, True, True, True, False, False, True, True, True, True, False, True, True, True, True, False, True, True, False, True, True, False, True, True, False, False, True, True, True, True, True, True, False, False, False, True, False, True, False, True, True, False, True, True, True, True, False, True, False, True, True, True, False, False, False, True, True, True, True, False, False, True, False, True, False, True, True, False, True, True, False, True, True, False, False, False, False, True, True, False, True, False, True, True, False, True, True, True, False, False, False, True, True, True, False, True, True, True, True, True, True, True, False, False, True, False, True, True, True, True, True, False, True, True, True, True, True, True, True, False, False, True, True, True, False, False, False, True, True, False, False, True, True, False, False, False, True, True, False, True, False, True, True, True, True, True, False, False, True, True, False, False, True, True, False, False, False, False, True, False, True, False, False, True, False, True, False, False, False, True, True, True, True, True, True, True, False, True, True, True, True, True, False, False, True, True, True, False, True, True, False, True, True, True, True, True, True, True, False, True, False, True, True, True, True, True, False, False, False, False, True, True, False, True, True, False, True, True, False, True, False, True, True, False, True, True, False, True, True, True, False, True, False, True, True, True, True, False, True, True, False, True, False, True, False, True, False, True, False, True, True, True, True, False, True, True, False, False, False, False, False, False, True, True, True, True, True, True, False, True, True, True, True, True, True, False, True, False, True, True, True, True, False, False, True, True, True, True, True, True, False, True, False, True, False, True, True, True, True, False, True, False, False, True, True, True, True, False, True, False, True, False, True, True, False, True, True, False, True, True, True, False, True, True, True, False, True, True, True, True, False, True, True, True, True, True, True, False, True, False, True, True, True, True, True, True, True, False, True, True, False, True, True, False, True, True, True, False, True, False, True, False, False, False, False, True, False, True, True, True, False, False, False, False, True, False, False, True, True, True, False, True, True, False, True, True, True, True, False, False, True, True, True, False, False, True, True, True, False, True, False, True, False, True, False, False, True, False, True, True, False, True, True, False, False, True, True, False, False, True, True, False, True, True, True, True, False, False, False, True, True, True, True, True, False, True, True, True, True, True, False, True, False, True, False, False, False, False, True, False, True, False, True, False, True, False, False, True, False, True, True, True, True, False, True, True, True, True, True, False, False, False, True, True, False, True, True, False, True, False, True, False, True, True, True, True, True, False, True, False, True, True, False, False, True, False, True, True, False, True, True, False, False, False, False, False, False, True, True, False, False, False, True, True, True, True, True, True, False, True, True, False, False, True, False, True, False, False, False, False, True, True, True, False, False, False, False, False, True, True, True, True, True, True, False, True, False, True, True, False, False, True, True, False, True, True, False, False, False, True, True, True, True, False, True, False, False, True, True, True, True, True, True, True, True, False, False, True, True, True, True, True, False, True, True, False, False, False, True, True, True, True, True, True, True, True, True, True, False, False, True, True, True, False, True, True, True, True, True, True, True, False, True, False, False, False, True, True, False, False, False, False, False, True, True, True, False, False, False, True, False, False, True, True, False, True, False, False, True, False, True, True, True, False, True, True, False, True, False, False, False, True, True, True, False, True, True, True, False, True, True, False, True, False, False, True, True, True, False, True, True, False, True, True, True, True, True, False, False, True, True, True, True, False, True, True, False, False, True, False, False, False, True, False, False, True, True, True, True, False, True, True, True, True, False, False, True, False, False, True, False, True, True, True, True, False, True, False, False, True, True, False, False, False, True, True, True, False, True, True, True, True, False, False, False, True, True, False, True, True, True, True, False, True, False, False, True, True, False, True, True, True, False, True, True, False, False, True, True, True, True, True, True, False, True, True, False, True, False, False, True, True, True, True, True, False, True, True, True, True, True, True, False, True, True, False, True, False, False, True, True, True, False, False, True, False, True, False, False, True, True, True, False, True, False, False, False, False, True, False, True, False, True, False, True, False, True, True, False, True, True, True, True, False, True, True, True, True, False, True, True, False, False, True, False, True, True, True, True, True, False, True, True, False, False, True, False, True, True, False, True, True, True, False, True, True, False, False, False, False, True, True, True, True, True, True, True, True, True, True, False, False, True, False, True, True, True, True, True, True, False, True, False, True, True, True, True, True, False, False, False, True, True, True, True, False, True, False, True, True, True, True, False, True, True, False, False, False, True, True, True, True, True, True, True, True, True, True, False, True, False, True, True, True, False, True, False, False, True, False, True, True, False, True, False, True, True, True, True, True, False, True, True, True, False, False, True, False, True, False, True, True, True, True, False, True, False, False, True, True, False, True, True, False, False, True, True, True, True, True, True, True, True, True, True, True, False, True, False, True, True, True, True, False, True, False, False, True, True, True, True, False, True, True, True, False, True, False, False, True, False, False, False, False, True, True, True, False, True, False, False, True, False, True, False, True, True, False, True, True, True, True, True, True, True, False, True, True, False, True, False, True, False, False, True, False, True, False, False, False, True, True, True, False, False, False, False, True, True, True, True, False, True, False, True, True, False, True, True, True, True, False, True, True, False, False, False, True, False, False, True, True, True, True, False, False, False, False, False, True, True, False, True, True, True, True, True, False, True, True, True, False, False, False, False, True, True, True, False, True, True, True, True, True, False, False, True, True, True, False, False, False, True, True, False, False, True, False, True, False, True, True, True, False, False, True, False, False, True, True, False, True, True, True, False, True, False, False, False, True, False, False, False, True, False, True, True, True, True, False, True, True, False, True, False, False, True, False, False, True, True, True, True, False, True, False, True, True, True, True, True, False, True, True, False, True, True, True, False, True, False, True, True, False, True, True, True, True, True, False, True, False, True, False, True, True, True, False, True, True, True, False, False, True, True, True, True, False, False, True, False, True, True, True, True, True, False, False, False, False, True, True, False, False, False, True, False, True, True, True, True, False, False, True, False, False, True, True, True, True, True, True, True, True, False, False, True, True, True, True, False, True, True, True, False, True, False, False, True, True, True, False, True, True, False, True, False, False, True, True, False, False, False, True, True, True, True, True, True, True, False, True, True, True, True, False, False, True, True, True, True, True, False, False, False, True, False, False, True, True, False, False, False, False, True, True, True, False, True, True, True, True, True, True, False, True, True, False, True, True, False, True, False, False, True, False, True, False, True, True, True, True, False, False, False, True, True, True, True, True, True, False, False, False, False, True, True, True, True, False, True, True, True, True, True, True, True, False, False, True, False, False, True, True, True, True, False, False, False, False, True, True, False, True, True, True, True, False, False, True, True, False, True, False, True, False, False, True, False, True, True, False, False, False, True, True, False, True, False, False, False, True, True, True, True, False, True, True, False, False, True, True, False, False, True, False, True, True, True, True, True, True, False, True, True, True, True, False, False, True, True, True, True, True, True, False, False, True, False, True, True, True, True, True, True, True, True, True, True, True, False, True, True, False, False, False, False, True, True, True, True, False, True, False, True, False, True, True, True, True, True, True, False, True, False, True, True, True, True, False, True, False, True, True, True, False, True, True, True, True, True, False, True, True, False, True, True, False, True, True, False, True, True, True, True, True, False, True, True, True, True, True, False, False, True, True, True, True, False, True, False, False, True, True, False, True, True, False, False, False, True, False, False, True, False, False, True, True, True, True, True, True, True, False, True, False, True, False, True, True, False, True, False, False, True, True, True, True, True, False, True, True, True, True, True, False, False, True, True, True, True, True, True, False, True, True, False, False, True, True, True, False, True, False, False, True, False, False, False, True, True, False, True, False, True, True, True, False, True, True, True, True, True, True, False, False, True, True, True, False, True, True, True, True, True, True, True, True, True, True, True, True, True, True, True, True, True, False, True, True, True, True, True, True, True, False, True, True, True, True, True, False, False, True, False, True, True, False, True, True, False, True, True, False, False, False, True, True, True, False, False, True, False, True, True, False, True, True, True, True, True, True, False, True, False, True, True, True, True, True, True, True, False, True, True, False, True, True, True, False, True, True, True, False, True, True, False, False, False, True, False, False, False, True, False, True, True, True, True, False, False, False, False, False, True, True, True, False, False, True, False, False, True, False, True, True, False, False, True, False, True, False, True, True, False, False, True, True, True, True, False, False, True, True, True, False, True, False, False, False, False, True, True, True, False, True, True, True, False, True, False, True, True, False, False, False, False, False, True, False, True, True, True, True, True, True, True, False, True, False, False, True, True, True, True, True, True, False, True, True, True, True, False, True, True, True, True, True, False, True, False, True, True, False, True, True, True, False, True, False, True, True, False, True, True, True, True, False, False, True, True, False, False, False, True, False, True, False, True, True, True, False, False, True, True, False, True, True, False, False, True, True, True, False, True, True, True, True, True, False, True, True, False, False, True, True, False, False, False, True, True, True, False, False, False, True, True, True, True, True, True, True, False, False, True, True, True, False, True, False, True, False, True, True, False, True, False, True, True, True, False, True, False, True, False, True, True, True, True, False, True, True, True, False, False, True, True, True, True, True, False, True, False, True, False, True, True, False, True, True, False, True, True, True, True, True, True, False, True, False, True, True, True, True, True, True, True, False, False, False, True, True, True, True, False, True, True, True, False, True, True, False, True, True, True, True, True, True, False, True, False, True, False, False, False, True, True, False, True, False, True, True, False, True, False, False, True, True, False, True, True, False, True, False, True, True, True, True, True, False, False, True, True, True, True, True, True, True, True, True, True, False, False, True, True, False, True, True, True, False, True, True, True, True, True, False, False, True, False, True, True, True, True, False, True, False, False, True, False, True, True, True, False, False, True, True, True, True, True, False, True, False, True, True, True, True, True, True, True, False, True, True, True, True, True, True, True, False, False, False, True, False, True, True, False, False, True, True, False, True, True, True, False, True, True, False, False, True, False, False, True, True, True, True, True, True, True, False, False, False, False, True, False, True, True, True, True, True, False, True, True, True, False, False, True, False, False, True, False, True, False, False, False, False, True, True, False, True, True, True, True, True, False, True, True, False, True, False, True, True, True, True, True, True, False, True, False, False, False, False, False, False, True, True, False, True, True, True, True, True, False, True, True, False, True, True, False, False, False, False, False, True, False, True, True, True, True, True, False, True, False, True, True, False, False, True, True, True, True, True, True, True, True, False, False, True, True, True, True, True, False, True, False, True, True, False, False, True, False, False, True, True, True, True, True, False, True, True, True, True, True, True, True, True, False, True, True, False, True, True, False, True, False, True, False, True, False, True, True, True, True, True, True, True, True, False, False, True, False, True, True, True, True, False, False, False, False, False, True, True, True, True, True, True, True, False, True, True, True, True, True, True, True, False, False, False, True, True, True, True, True, True, True, False, False, True, True, True, True, True, True, True, True, True, True, True, True, True, False, False, False, False, False, True, True, True, True, False, False, False, True, True, True, True, True, True, True, True, False, False, False, False, False, False, False, True, True, True, True, True, True, True, True, True, False, True, True, True, True, True, False, False, True, True, True, True, False, True, False, True, True, False, True, True, True, False, True, True, True, False, True, False, True, True, True, True, True, True, False, True, True, True, True, True, False, True, False, False, False, False, False, True, True, False, True, False, True, True, True, False, False, False, True, True, False, False, False, True, True, False, False, True, False, True, False, False, True, True, True, False, False, True, False, True, True, False, True, False, False, False, True, True, True, True, False, True, True, True, True, False, True, True, True, True, False, True, False, True, True, False, True, True, True, True, True, False, True, False, True, False, True, False, True, True, True, True, False, True, False, False, True, False, True, True, False, False, True, True, True, False, True, False, True, False, True, False, True, True, False, True, False, True, True, True, True, False, False, False, True, True, False, True, True, False, True, True, True, True, False, False, True, True, True, False, True, False, False, True, True, True, True, True, True, False, True, True, True, False, False, True, True, True, True, True, True, True, True, True, False, True, False, True, True, True, False, True, True, True, True, False, False, True, True, True, True, True, False, True, False, False, True, False, False, False, False, True, False, False, False, False, False, True, False, False, True, True, True, False, True, True, False, True, True, False, True, True, False, False, True, True, True, True, True, True, True, True, True, False, False, False, False, True, True, True, False, True, True, False, True, False, True, True, True, False, False, True, False, True, False, True, True, True, True, False, True, False, True, False, True, False, True, True, True, False, True, True, False, False, True, True, False, False, True, True, True, True, True, True, True, False, True, True, True, False, False, True, False, True, True, False, False, False, False, False, True, True, False, False, True, True, True, True, False, True, True, True, False, False, False, False, False, True, True, False, True, True, True, True, False, False, True, True, False, False, True, True, True, False, True, False, True, False, False, False, True, False, True, True, True, False, False, False, True, True, False, True, True, True, False, True, False, True, True, True, True, True, False, True, True, False, True, True, True, False, False, True, False, False, True, True, True, False, False, True, False, False, False, False, False, True, True, True, False, False, True, False, True, False, False, False, True, True, True, True, False, False, True, True, True, True, False, False, False, True, True, True, True, True, True, True, True, False, False, False, True, False, True, False, True, True, True, False, True, True, True, True, False, False, True, False, True, False, False, True, True, False, False, False, False, True, True, True, False, False, True, True, True, False, True, False, False, False, False, True, True, False, True, True, True, False, False, True, True, True, False, True, True, False, False, True, False, False, True, False, False, False, True, True, True, True, True, True, True, False, True, True, True, False, True, True, True, False, False, True, True, True, True, False, True, False, True, True, False, True, True, True, False, True, False, False, True, True, False, True, True, True, True, True, False, False, True, True, False, True, True, True, False, False, True, True, True, True, True, True, False, False, False, False, True, True, False, True, False, True, False, True, False, True, True, True, True, True, True, False, True, False, True, False, True, True, True, False, True, False, False, True, False, True, True, True, True, False, True, False, False, False, True, True, True, False, True, True, True, True, True, True, True, True, True, True, False, False, True, True, False, False, True, True, False, True, True, False, True, True, False, False, False, True, False, True, True, True, True, True, True, False, False, True, False, True, True, False, True, False, False, True, True, True, True, True, False, True, True, True, True, False, False, False, False, True, False, True, False, False, False, True, True, True, True, True, True, True, True, True, False, False, False, True, True, False, False, True, False, False, True, False, True, False, False, True, True, True, True, True, False, True, False, True, True, True, True, True, True, False, True, True, False, True, False, True, True, True, False, True, True, False, True, False, True, False, True, True, False, False, True, False, True, False, True, False, True, True, True, True, False, False, True, True, False, False, True, True, False, True, True, True, True, True, True, True, True, True, True, False, True, False, False, True, True, True, True, False, True, False, True, True, False, False, False, True, True, True, True, True, True, False, True, False, False, True, False, True, True, False, True, False, True, True, True, False, False, True, True, True, False, False, False, True, True, False, False, False, False, True, True, False, True, False, True, True, False, True, True, False, True, True, True, True, True, True, False, True, True, False, True, False, False, False, True, True, True, True, True, False, True, False, True, False, False, True, True, True, True, False, True, True, False, False, False, True, False, True, False, False, True, True, False, False, False, True, True, True, True, True, True, False, False, True, True, True, False, True, False, True, True, True, True, True, True, True, True, True, True, True, True, False, False, True, False, True, False, True, False, True, True, True, False, False, False, True, True, False, True, False, False, True, True, True, True, False, False, False, True, False, False, True, False, False, True, True, True, True, True, False, False, False, True, False, True, True, False, False, False, False, True, False, False, True, False, False, False, False, False, False, False, False, True, True, True, False, False, True, True, False, True, False, True, True, True, True, False, True, True, False, True, True, True, False, False, False, False, False, False, True, False, True, False, False, False, False, False, True, False, True, True, False, False, True, False, True, True, False, True, False, False, True, True, False, True, True, False, True, False, True, False, False, False, True, True, True, True, False, False, True, True, False, True, False, True, False, False, False, True, True, True, True, False, False, True, True, True, False, True, True, False, True, True, True, False, False, False, False, True, False, False, True, True, False, True, True, False, True, True, True, False, False, False, False, True, False, True, True, True, False, False, False, True, True, True, True, True, False, True, False, True, False, True, True, True, True, False, False, True, False, False, True, False, True, True, True, True, True, False, True, True, True, True, False, True, False, True, True, True, True, True, True, True, False, True, False, True, True, True, False, False, True, False, True, False, True, True, True, True, True, True, True, False, True, True, False, True, False, False, True, False, True, True, True, False, False, False, True, True, False, False, True, True, True, True, True, True, False, True, False, True, False, True, True, True, True, False, False, True, True, False, True, False, False, True, True, True, True, True, False, True, False, False, True, True, False, True, True, False, False, True, True, False, False, True, True, True, True, False, True, False, True, True, True, True, True, True, True, True, True, True, True, True, False, True, False, True, True, True, True, False, True, True, True, True, True, False, True, False, False, True, True, True, False, True, False, True, True, True, True, True, False, True, False, False, True, False, True, True, False, False, True, False, False, True, False, True, True, False, True, False, False, True, True, True, False, True, False, False, True, False, False, True, True, True, False, True, False, True, True, False, True, False, False, False, True, True, True, True, True, True, True, True, True, True, True, True, True, True, True, True, False, True, True, True, True, True, False, False, True, True, True, True, False, False, True, True, True, False, False, False, True, True, True, False, False, True, False, True, True, False, True, False, True, False, False, True, False, True, True, True, True, False, True, True, False, False, False, False, False, True, True, True, False, True, True, True, True, True, True, True, True, True, False, False, False, True, True, True, True, True, False, False, False, True, False, True, True, True, False, True, True, True, True, True, True, False, True, True, True, True, True, True, True, False, False, True, True, False, False, True, True, True, True, True, False, True, True, True, True, True, False, True, True, False, True, True, False, True, False, False, True, False, False, True, False, False, False, False, True, True, True, False, True, True, True, True, False, False, False, False, True, False, True, True, False, True, False, True, True, True, True, True, False, True, True, True, True, True, True, False, True, False, True, False, False, False, True, True, False, False, True, False, True, True, False, True, False, True, False, True, False, True, True, False, True, True, True, False, True, True, False, False, True, False, False, True, True, True, True, True, False, False, True, True, True, True, False, True, True, True, False, False, False, False, True, True, False, True, True, True, False, True, False, True, False, True, True, False, True, False, True, False, True, False, False, True, False, True, False, True, True, True, True, True, False, False, True, False, True, False, False, True, True, True, True, True, False, False, True, True, True, True, True, False, False, False, False, True, True, True, False, False, True, False, True, True, False, True, True, True, True, False, False, True, True, True, True, False, True, False, False, False, True, False, True, False, False, True, False, False, False, False, True, False, False, True, True, True, True, False, True, False, True, False, False, True, False, True, True, False, True, False, False, True, True, False, False, True, True, True, True, True, True, True, True, True, False, False, True, False, False, True, True, True, True, False, True, True, False, True, True, True, True, True, False, True, True, False, False, True, True, True, True, True, True, True, False, True, True, False, True, False, False, False, True, True, True, False, True, False, True, True, False, True, True, True, True, True, True, True, True, False, False, False, True, True, True, True, True, True, False, True, True, False, False, False, True, False, True, True, False, True, True, True, False, False, False, True, False, True, False, True, True, False, False, False, False, True, True, True, False, False, True, True, False, True, True, False, False, False, False, True, True, True, True, True, True, True, True, True, False, True, True, False, True, True, True, True, True, True, True, True, True, True, False, True, False, True, True, True, True, True, True, False, False, False, True, False, True, True, True, True, True, False, True, True, False, False, True, True, True, True, True, True, True, True, True, True, False, False, True, True, False, True, True, True, False, False, False, True, True, True, True, False, True, False, False, False, True, False, False, True, False, False, True, True, True, False, True, True, False, False, False, True, True, True, False, False, False, True, True, False, False, True, True, True, False, False, True, False, True, False, True, True, True, False, True, True, True, False, True, True, False, True, True, True, True, True, True, True, False, False, False, False, False, True, False, True, True, True, True, False, False, False, True, True, True, False, False, True, True, True, False, True, True, True, True, True, True, False, True, True, True, False, True, False, True, True, True, True, True, True, True, True, True, False, False, False, False, True, True, False, True, True, True, False, True, False, False, False, False, True, True, True, True, True, True, True, False, True, False, True, True, True, True, False, True, True, True, False, True, True, False, True, True, True, False, True, False, True, True, False, True, True, False, True, True, True, False, False, True, True, True, False, True, False, True, True, True, True, True, True, True, True, False, False, False, True, True, False, True, False, True, True, True, False, False, True, False, True, True, True, True, True, True, False, True, True, True, False, True, True, True, True, False, True, True, True, True, True, True, True, True, False, False, False, False, False, True, True, False, False, True, True, False, False, False, True, True, True, True, True, False, False, False, False, True, False, False, True, True, True, True, True, True, True, False, True, False, True, True, True, True, True, True, True, True, False, True, True, False, True, False, False, True, True, True, True, True, True, True, True, True, True, True, False, True, False, True, True, True, True, False, True, True, False, True, False, True, False, True, True, True, True, True, True, False, False, True, False, True, True, True, True, True, True, True, True, True, False, False, True, True, True, True, False, True, True, True, True, True, True, False, True, False, False, True, False, False, False, False, False, False, False, True, False, False, False, False, False, False, False, True, True, False, False, True, True, False, False, False, True, False, False, True, True, False, False, True, True, True, False, True, False, False, True, False, True, True, True, False, True, False, True, False, True, True, True, True, True, True, True, False, True, True, True, True, False, True, True, True, True, False, True, True, True, True, True, False, True, True, True, True, False, True, False, True, True, True, False, False, False, True, True, False, True, True, True, True, True, True, False, False, True, False, True, True, True, False, False, True, False, True, True, True, False, True, False, False, False, True, False, False, False, True, True, True, False, False, False, False, True, True, False, True, False, True, True, True, True, True, True, False, True, True, True, False, True, False, True, True, True, False, False, False, True, True, False, True, True, False, True, False, True, False, True, True, True, True, True, True, True, True, True, False, True, True, True, True, True, True, False, True, False, False, False, True, True, True, True, True, False, True, True, True, True, True, False, False, True, True, False, True, True, False, False, False, False, True, False, True, False, False, False, False, True, True, False, False, False, False, True, True, False, True, False, False, True, False, True, True, True, True, False, True, True, False, True, False, True, True, True, False, False, True, True, True, True, True, True, False, True, True, True, False, True, True, True, True, True, True, True, True, True, False, False, True, False, False, False, True, True, True, False, True, False, True, True, True, False, False, True, True, False, True, False, True, True, True, True, True, False, True, False, False, False, True, True, True, False, True, False, True, True, False, False, True, True, True, False, True, False, False, True, True, True, False, True, True, True, True, True, False, False, False, True, True, True, False, False, True, True, True, False, True, True, True, True, False, False, True, True, False, True, False, True, True, False, True, True, True, True, True, False, True, False, True, True, True, True, True, True, False, True, False, False, True, False, True, False, True, False, False, True, False, True, False, False, False, True, True, False, True, True, False, False, False, True, True, True, False, False, True, True, True, True, True, True, True, True, True, True, True, True, True, True, True, False, False, True, False, True, True, False, True, False, False, True, True, False, True, True, False, False, True, False, True, False, True, True, False, True, True, False, False, True, True, False, True, True, True, True, True, True, True, True, False, True, True, False, True, False, False, True, False, True, False, True, False, True, False, False, True, False, False, False, True, True, True, True, False, False, True, True, True, True, True, False, True, True, True, False, False, True, True, True, False, False, True, True, False, True, True, True, True, False, True, True, True, False, False, False, True, True, True, True, True, False, False, True, True, False, True, True, False, False, True, True, True, True, True, True, True, True, False, True, True, True, True, False, False, False, True, True, True, False, True, True, True, True, False, True, True, True, True, False, True, False, False, False, True, True, True, True, True, True, True, False, True, True, True, False, True, True, True, True, True, False, True, False, False, False, True, False, False, False, True, True, True, True, True, True, False, True, True, True, True, False, False, False, False, True, True, True, True, False, False, False, True, True, False, True, True, True, False, False, True, False, True, False, True, True, True, True, True, False, True, True, False, True, True, True, True, False, True, False, True, True, True, True, True, True, True, True, True, True, True, True, True, False, True, False, True, False, True, True, False, False, True, False, True, True, True, True, True, True, False, False, True, True, True, True, True, True, False, True, True, False, False, True, False, True, False, False, False, False, True, False, True, True, True, False, False, True, True, True, False, True, True, True, True, True, True, True, True, False, True, True, True, True, False, True, True, False, False, True, True, False, True, True, True, True, False, True, True, False, False, False, False, True, False, True, True, True, True, True, True, True, True, True, False, False, True, False, True, False, True, True, True, True, False, True, True, True, True, True, False, True, True, False, False, True, True, False, False, True, False, False, True, False, True, True, True, False, False, True, True, False, False, True, True, False, True, True, True, True, True, True, True, True, True, False, True, False, False, True, True, True, False, False, True, False, False, False, True, False, True, True, True, True, True, True, True, False, False, True, True, True, True, True, False, False, False, False, True, True, True, False, True, True, True, False, False, True, False, True, False, False, False, False, True, True, True, True, False, True, True, False, True, True, False, False, True, False, True, False, True, True, False, False, True, True, False, True, True, True, True, True, True, True, True, True, True, True, True, True, True, True, True, True, False, True, True, True, False, False, False, False, False, True, True, True, True, False, True, True, True, False, True, False, True, False, False, True, True, True, True, True, True, True, False, False, False, True, False, False, True, True, True, True, False, False, True, False, True, False, False, False, True, True, False, True, True, False, True, True, True, True, True, False, False, True, True, True, True, False, True, False, True, True, True, False, True, True, True, False, True, True, False, True, False, False, True, False, False, True, True, False, False, False, False, True, False, True, True, False, True, True, False, True, True, True, True, True, False, False, True, False, False, True, True, True, True, True, False, True, True, True, False, True, False, True, False, True, True, True, False, True, True, True, True, True, True, True, True, True, True, True, False, True, False, True, False, True, True, False, True, False, True, True, True, True, False, True, False, True, True, False, True, True, True, True, False, True, True, False, True, False, True, False, False, True, True, False, True, False, True, True, False, False, False, False, True, False, True, True, True, True, False, False, False, True, False, True, True, False, True, True, True, True, True, False, True, False, True, True, True, True, False, True, True, True, False, False, True, False, True, True, True, False, False, True, True, True, True, False, True, False, True, False, False, True, True, True, True, False, True, True, True, False, True, True, True, False, True, True, False, True, True, False, True, True, False, True, False, True, True, True, True, False, True, True, False, True, True, True, False, True, False, True, True, True, True, True, True, True, True, True, True, True, False, True, False, False, False, True, False, False, True, False, True, True, True, True, True, False, False, False, True, True, True, False, False, True, True, True, True, False, True, True, True, True, True, False, True, True, False, False, False, True, True, True, True, False, True, True, False, True, True, False, True, False, True, True, True, False, True, True, True, True, False, True, True, True, True, True, True, True, True, True, True, True, True, True, True, False, True, False, True, True, False, True, False, True, True, True, True, True, True, True, False, False, False, False, True, False, True, False, True, False, False, False, True, True, True, True, True, False, True, False, False, True, False, True, False, True, False, True, False, False, False, True, True, False, False, False, True, True, False, True, False, False, True, False, True, False, True, True, True, False, False, False, True, True, True, True, True, True, True, False, True, True, True, False, True, True, True, True, False, True, True, False, True, True, True, True, False, False, True, True, False, True, False, True, False, True, False, False, True, False, True, False, True, False, False, True, False, True, True, True, True, False, False, False, True, True, False, True, False, False, False, True, False, True, True, True, False, True, True, False, True, False, True, False, False, True, False, True, False, False, True, True, True, True, True, True, True, False, True, True, True, False, True, True, False, False, False, True, True, True, False, False, True, True, True, True, False, True, False, False, True, False, True, True, True, False, False, True, True, True, True, False, True, True, False, True, False, False, True, False, False, False, True, True, True, False, True, True, True, True, False, True, False, False, False, True, False, True, True, True, True, False, False, False, True, True, True, False, False, True, False, True, True, True, False, True, True, False, True, False, True, True, False, False, True, True, True, True, False, False, True, True, False, True, False, True, False, False, False, False, True, False, False, True, False, False, False, True, True, True, False, False, False, True, True, True, False, True, True, True, False, True, True, True, True, False, False, False, True, True, True, False, False, True, True, True, True, True, True, True, True, True, False, True, True, True, True, False, False, False, False, True, True, False, True, True, False, False, True, True, False, True, True, False, True, False, True, True, False, True, True, False, True, True, False, False, True, True, True, False, False, False, False, True, False, True, True, True, True, True, False, True, False, False, False, True, True, False, False, True, True, True, True, True, False, False, True, True, False, True, True, True, False, False, True, False, True, False, True, False, True, True, False, False, True, False, False, True, True, True, True, True, True, False, True, True, True, False, False, True, True, False, True, True, True, True, True, True, True, True, False, True, True, True, True, False, True, True, True, True, True, True, True, True, True, False, False, False, False, True, True, False, False, False, True, True, True, True, True, True, False, True, True, False, True, True, False, True, True, False, True, True, False, True, False, True, True, True, True, True, False, True, True, False, False, False, False, False, True, True, False, False, True, True, True, True, True, True, False, True, True, False, True, True, False, False, False, False, True, False, True, True, False, True, True, True, True, False, True, False, True, False, False, True, True, True, False, True, True, True, False, True, False, True, True, True, False, False, False, True, False, True, True, True, True, True, True, False, True, False, False, True, False, True, True, False, True, True, False, True, False, True, False, True, False, True, True, False, False, True, True, True, True, True, True, True, True, True, True, False, True, False, True, True, True, False, True, True, False, False, False, True, True, True, False, True, True, False, False, True, True, True, True, True, True, True, False, True, True, False, True, True, False, False, False, True, False, True, True, True, True, False, True, True, False, False, True, True, False, True, True, False, False, False, True, True, True, True, True, True, True, False, True, True, True, True, True, False, False, True, True, True, True, True, False, True, False, False, False, True, False, False, True, True, False, True, True, True, True, False, True, True, True, True, False, True, False, True, True, True, True, True, True, False, True, True, True, False, True, True, True, False, True, True, True, False, True, False, True, True, True, True, False, False, False, False, False, True, True, False, True, True, True, False, False, False, True, True, False, True, True, True, True, True, True, False, False, True, False, True, True, True, False, True, True, False, True, True, False, True, False, True, False, True, True, False, True, True, True, False, True, True, True, False, True, True, False, True, False, False, True, True, True, True, True, False, True, True, True, True, True, False, True, True, True, True, True, True, True, True, True, False, True, False, True, True, True, True, True, False, True, False, True, True, True, True, True, True, False, True, True, False, False, False, False, True, False, True, True, False, False, True, True, True, True, False, False, True, True, True, False, True, True, False, True, True, True, True, False, True, True, True, False, True, False, True, True, True, True, False, True, True, False, False, False, True, True, True, True, False, True, True, False, False, True, False, False, True, True, False, True, True, True, True, False, True, False, True, True, False, True, True, True, True, True, True, True, True, False, True, False, True, True, True, True, True, True, True, True, False, True, True, False, False, True, True, True, False, True, False, False, False, False, False, True, False, False, True, True, True, True, False, False, False, False, True, False, True, True, True, True, False, True, True, True, False, True, True, False, True, False, False, True, True, True, True, True, True, False, True, True, True, True, True, True, True, True, True, False, True, True, True, True, False, True, True, True, False, False, False, True, True, False, False, True, False, True, True, False, False, False, False, True, True, False, True, False, True, True, True, True, True, False, False, True, True, False, True, True, False, True, False, False, True, True, False, True, True, True, True, True, False, False, False, True, True, False, False, True, False, True, True, False, False, True, False, False, True, True, True, True, True, False, True, True, True, True, True, False, False, True, False, True, True, True, False, True, False, True, False, True, True, True, True, True, False, False, False, False, True, True, True, True, True, False, False, True, True, True, False, True, False, True, True, True, False, True, True, True, False, True, False, True, False, True, True, False, False, True, True, False, True, True, True, True, True, False, True, True, False, False, True, False, False, True, True, True, True, True, True, True, True, True, True, False, True, True, True, True, False, True, True, True, True, True, False, True, False, False, False, True, False, False, False, True, True, True, True, True, True, True, True, False, True, False, True, False, True, True, False, True, True, False, True, True, False, False, True, False, False, False, True, False, True, False, False, False, True, False, False, True, True, False, True, False, True, False, True, False, True, True, True, True, True, True, False, False, True, False, True, True, False, True, False, False, False, False, True, True, True, False, False, False, True, False, True, True, True, True, False, True, True, True, True, True, True, True, True, False, False, True, True, True, False, False, True, False, True, True, False, True, True, True, True, True, True, True, False, False, False, True, False, True, True, True, True, True, True, True, True, True, True, True, True, False, True, False, True, False, True, True, True, False, True, True, True, True, False, False, True, True, False, True, True, True, True, True, True, True, False, True, False, True, True, False, False, True, True, False, False, False, True, True, False, True, True, True, True, True, True, True, True, False, True, False, True, True, True, True, True, True, False, False, True, False, True, True, True, False, True, True, False, False, False, True, True, False, True, True, True, True, True, True, False, True, True, True, True, True, False, False, False, False, True, True, True, True, False, True, False, True, False, True, True, True, False, True, True, True, True, True, True, True, False, True, False, True, True, True, False, True, True, True, False, True, False, True, False, True, True, True, False, False, True, True, False, False, True, True, False, True, True, True, False, True, True, True, False, True, False, False, False, False, True, True, True, False, True, False, True, True, False, False, True, False, False, False, True, True, True, True, True, True, True, True, True, False, False, True, True, True, True, False, False, False, False, True, False, True, True, True, False, False, True, False, True, True, True, True, True, True, True, False, True, False, True, False, True, False, True, True, True, True, True, True, True, True, True, False, False, True, True, False, True, False, True, False, False, True, True, False, True, True, True, False, True, False, True, False, False, False, True, True, False, True, True, False, True, False, True, True, False, False, True, True, True, True, False, False, True, False, True, False, False, True, False, False, False, True, False, False, True, True, True, True, True, True, True, True, True, False, True, False, True, True, False, False, False, False, True, False, False, False, False, True, True, True, True, False, True, True, True, True, True, True, True, True, True, False, True, True, False, True, True, False, False, False, True, False, False, True, True, True, False, True, True, True, False, True, True, True, True, True, True, False, False, False, False, True, False, False, True, False, False, False, False, True, False, False, True, True, True, False, True, True, False, False, True, True, True, False, True, False, False, False, True, False, False, True, True, True, True, True, True, False, False, True, False, False, False, True, True, True, True, True, True, True, True, True, False, False, False, True, True, False, True, True, True, True, False, True, True, True, True, True, True, False, True, False, True, True, True, True, True, True, False, False, False, False, True, True, False, False, False, True, False, True, True, True, True, False, True, True, True, True, False, True, True, True, True, True, False, False, False, True, True, True, True, True, False, True, False, True, True, True, True, True, True, False, False, True, True, True, False, True, False, True, False, True, True, True, True, False, False, True, False, True, True, False, False, True, True, False, False, True, True, False, True, True, True, True, True, False, True, False, False, True, True, True, True, True, True, True, False, False, False, False, True, False, True, True, False, False, True, True, False, True, True, False, True, False, False, False, False, True, False, False, False, False, False, False, True, True, True, True, False, False, False, False, True, False, False, True, True, True, True, False, True, True, False, True, False, True, True, False, True, False, True, True, True, False, True, True, True, True, False, False, False, True, True, False, True, True, True, False, False, False, True, True, True, True, False, False, False, False, True, True, True, True, True, True, True, False, True, True, False, False, False, False, True, True, True, False, True, False, True, True, False, False, True, False, True, True, False, True, True, False, True, True, True, True, True, False, True, True, False, True, True, False, True, True, True, True, False, True, False, True, True, False, True, False, False, True, True, True, False, True, True, True, True, True, True, False, False, True, True, True, False, True, True, True, True, True, True, True, True, True, True, True, True, True, True, True, True, True, False, True, False, True, True, False, True, True, False, False, True, True, True, True, True, True, False, True, True, True, True, False, True, True, True, True, True, True, False, False, False, True, True, False, True, True, False, False, False, False, False, False, True, True, False, False, True, True, False, True, False, True, False, True, False, False, False, False, False, False, True, True, True, True, True, False, False, False, True, False, True, True, False, True, True, True, True, False, True, False, False, True, True, True, True, True, True, True, True, False, False, True, True, True, False, False, False, True, True, True, False, True, False, True, False, True, True, True, False, True, True, True, False, False, False, False, True, True, True, True, True, True, False, True, False, True, False, False, True, False, False, True, True, True, True, True, True, True, False, True, True, False, False, True, True, False, True, True, True, False, False, True, True, False, True, False, True, True, False, True, False, True, True, False, True, True, False, False, True, False, True, True, True, False, True, True, True, True, True, True, False, True, False, False, True, True, False, True, False, True, True, True, False, True, True, True, False, True, True, False, True, False, False, False, True, False, True, True, True, True, True, False, False, False, True, True, True, True, True, True, True, True, False, True, True, True, True, True, True, False, True, True, True, False, True, True, True, True, False, False, True, True, False, False, True, True, False, True, True, False, True, True, True, True, True, False, True, True, False, True, False, True, True, True, True, True, True, False, True, False, False, True, True, True, True, True, True, True, True, False, True, True, False, False, True, True, True, True, True, True, True, True, False, True, True, True, True, True, True, True, True, False, True, True, False, False, False, False, True, True, True, False, False, True, True, True, False, True, False, False, False, False, True, True, True, True, False, True, True, True, True, True, True, True, False, True, True, True, True, True, False, True, True, True, True, False, True, False, True, True, True, True, True, False, False, True, False, False, True, False, False, True, False, False, True, True, False, True, True, True, True, False, True, False, True, True, True, True, False, False, True, False, False, True, False, True, True, True, False, False, True, True, True, True, True, True, True, False, True, True, True, True, True, True, True, True, False, True, False, False, True, True, True, True, True, True, False, True, False, True, True, True, False, True, True, False, False, True, False, True, True, False, True, True, True, True, True, False, True, True, True, False, False, True, False, True, True, False, True, True, True, True, False, True, True, False, False, True, True, False, True, True, False, True, True, True, True, False, True, False, False, False, False, True, True, True, True, True, False, True, False, True, False, True, True, True, True, False, True, False, True, True, True, True, True, True, False, True, True, False, True, False, True, False, True, True, True, False, True, False, True, True, True, False, False, True, False, False, False, True, True, False, False, True, True, True, True, True, False, True, True, True, False, True, True, True, False, True, True, True, True, False, False, False, False, True, True, False, False, True, True, False, True, True, True, False, False, True, False, False, False, True, False, True, True, True, True, False, False, True, True, True, False, True, False, True, True, False, True, True, True, True, True, True, True, False, True, True, True, True, False, True, True, False, False, False, False, True, True, True, True, True, True, True, False, True, True, True, False, True, True, False, False, False, False, True, False, True, True, True, True, False, False, False, False, True, True, True, False, True, False, False, True, True, False, True, True, True, True, True, True, True, True, True, False, True, True, False, False, True, True, True, True, True, True, True, False, True, True, False, True, True, False, True, True, True, False, False, False, False, False, False, True, True, False, False, True, True, False, True, True, True, True, True, True, False, True, True, False, True, False, True, False, True, True, False, True, True, True, True, True, True, False, True, False, True, True, False, False, False, True, False, True, True, True, True, False, False, True, False, False, True, True, False, False, False, True, True, True, True, False, True, True, True, True, True, True, False, False, False, True, True, True, True, True, True, False, True, True, True, True, True, True, True, False, False, False, True, True, False, False, True, True, False, True, True, False, True, False, False, False, True, False, True, True, True, True, True, True, True, True, True, False, True, False, True, True, True, False, True, False, False, True, True, True, True, False, True, False, True, True, True, False, True, True, True, True, True, False, True, True, True, True, False, True, True, True, True, False, True, True, True, True, True, True, True, False, False, True, True, True, True, True, False, False, True, True, True, True, True, True, False, True, False, True, True, False, False, False, False, False, False, True, False, False, False, False, False, True, False, True, False, False, False, True, True, True, True, True, True, True, True, True, True, False, True, False, True, False, False, True, True, False, True, False, True, True, True, True, False, True, True, False, True, False, True, False, True, True, False, False, True, False, False, True, False, False, True, True, False, True, True, True, True, True, True, False, True, True, True, True, False, True, True, True, False, True, False, True, True, False, False, True, True, False, False, False, True, True, True, True, False, False, False, True, False, False, True, False, False, False, True, False, False, True, True, True, True, True, False, True, False, True, False, True, True, True, True, False, True, True, True, False, False, False, True, True, False, True, True, False, True, True, False, False, True, False, True, False, True, True, False, False, True, False, False, True, True, True, True, False, True, False, False, False, False, True, False, True, True, True, True, False, True, False, False, True, True, True, True, True, True, True, True, True, True, False, False, True, True, True, False, True, False, True, True, False, True, False, False, False, True, True, False, True, True, False, True, True, True, True, False, True, False, False, True, True, True, False, True, True, True, True, False, True, True, True, True, False, True, True, True, False, False, True, True, False, True, False, True, True, False, True, False, False, False, False, False, False, True, False, True, False, True, False, True, True, False, True, True, True, True, True, True, True, False, True, True, True, True, True, True, True, True, True, False, False, True, False, False, True, False, False, False, False, False, True, True, True, True, True, True, True, False, False, True, True, True, False, True, False, False, True, True, False, False, True, True, True, False, True, True, True, True, True, True, True, True, True, True, True, False, False, True, True, False, True, True, True, True, True, True, False, True, True, False, True, True, True, True, True, False, True, True, True, True, False, True, True, True, True, True, False, True, True, True, True, True, False, True, True, True, True, False, True, False, True, True, False, True, True, True, True, True, True, True, True, True, False, False, False, False, True, False, True, False, False, True, False, True, True, False, True, True, False, True, True, True, True, True, True, False, True, True, False, True, True, False, True, True, True, True, True, True, True, True, True, False, False, False, True, False, False, True, True, False, False, True, True, True, True, True, True]\n"
     ]
    }
   ],
   "source": [
    "# Create variables\n",
    "ice_cream_results = []\n",
    "\n",
    "# Create a loop that repeats a large number of trials (5 customers), in this case 10000 times\n",
    "for i in range(10000):\n",
    "    result = five_customer_trial()\n",
    "    ice_cream_results.append(result)\n",
    "    \n",
    "# Print the results\n",
    "print(ice_cream_results)"
   ]
  },
  {
   "cell_type": "markdown",
   "metadata": {},
   "source": [
    "### Analyze the results"
   ]
  },
  {
   "cell_type": "markdown",
   "metadata": {},
   "source": [
    "#### Find the total number of successes (true)"
   ]
  },
  {
   "cell_type": "code",
   "execution_count": null,
   "metadata": {},
   "outputs": [],
   "source": [
    "# Create variables\n",
    "\n",
    "\n",
    "# Loop through each entry, updating the number of successful trials (true)\n",
    "\n",
    "        \n",
    "# Print the results\n"
   ]
  },
  {
   "cell_type": "markdown",
   "metadata": {},
   "source": [
    "#### Calculate the probability\n",
    "* Probability = (successes/total # trials)"
   ]
  },
  {
   "cell_type": "code",
   "execution_count": null,
   "metadata": {},
   "outputs": [],
   "source": [
    "# Calculate probability\n",
    "\n",
    "\n",
    "# Print results\n"
   ]
  },
  {
   "cell_type": "markdown",
   "metadata": {},
   "source": [
    "### Graph the results"
   ]
  },
  {
   "cell_type": "code",
   "execution_count": null,
   "metadata": {},
   "outputs": [],
   "source": [
    "# Import the library\n",
    "import matplotlib.pyplot as plot\n",
    "%matplotlib inline\n",
    "# Magic to allow the graph to display directly in this notebook\n",
    "\n",
    "# Create an array of labels\n",
    "\n",
    "\n",
    "# Create an array of your results\n",
    "\n",
    "\n",
    "# Explode option\n",
    "    # 'Slices' appear distanced from the center\n",
    "        # Larger numbers = further explosion\n",
    "    # Explode array should be same size as labels\n",
    "explode = (.1, 0)\n",
    "\n",
    "# Use matplotlib module subplots() to get data for various charts\n",
    "    # Returns a tuple in the form (figure,axes)\n",
    "fig1,ax1 = plot.subplots()\n",
    "\n",
    "# Use axes to create a pie chart\n",
    "    # ax1.pie(data array, explode array, labels array, starting angle)\n",
    "ax1.pie(result_bin, explode, labels, autopct='%1.1f%%', startangle=90)\n",
    "\n",
    "# Equal aspect ratio ensures that pie is drawn as a circle.\n",
    "ax1.axis('equal')\n",
    "\n",
    "plot.show()"
   ]
  },
  {
   "cell_type": "markdown",
   "metadata": {},
   "source": [
    "### Don't forget to answer the original question!\n",
    "* Answer should be in the form of a complete sentence"
   ]
  },
  {
   "cell_type": "markdown",
   "metadata": {},
   "source": []
  }
 ],
 "metadata": {
  "kernelspec": {
   "display_name": "Python 3 (ipykernel)",
   "language": "python",
   "name": "python3"
  },
  "language_info": {
   "codemirror_mode": {
    "name": "ipython",
    "version": 3
   },
   "file_extension": ".py",
   "mimetype": "text/x-python",
   "name": "python",
   "nbconvert_exporter": "python",
   "pygments_lexer": "ipython3",
   "version": "3.10.9"
  }
 },
 "nbformat": 4,
 "nbformat_minor": 2
}
