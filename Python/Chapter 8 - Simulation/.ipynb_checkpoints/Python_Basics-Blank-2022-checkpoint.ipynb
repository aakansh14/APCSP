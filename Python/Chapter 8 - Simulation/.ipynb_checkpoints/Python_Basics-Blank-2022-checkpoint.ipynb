{
 "cells": [
  {
   "cell_type": "markdown",
   "metadata": {},
   "source": [
    "# Python Basics"
   ]
  },
  {
   "cell_type": "markdown",
   "metadata": {},
   "source": [
    "## Background Information"
   ]
  },
  {
   "cell_type": "markdown",
   "metadata": {},
   "source": [
    "#### Jupyter Notebooks:\n",
    "  * a notebook is a system for combining code and written description\n",
    "    * run a cell: Shift-Enter\n",
    "    * run a cell and add new: Alt-Enter\n",
    "    * keyboard shortcuts: click above and press 'h'\n",
    "  * this text is in a 'markdown cell'\n",
    "  * markdown used for words, description, and paragraphs\n",
    "    * cheat sheet: https://github.com/adam-p/markdown-here/wiki/Markdown-Cheatsheet\n",
    "\n",
    "\n",
    "#### Python:\n",
    "  * our programming language for second semester\n",
    "  * a high-level programming language\n",
    "  * popular with data scientists and academic researchers\n",
    "  * style guide: https://www.python.org/dev/peps/pep-0008/\n",
    "  \n",
    "  \n",
    "#### High-Level Programming Languages:\n",
    "  * more abstraction than a lower-level language\n",
    "  * code more readable (looks a lot like English)\n",
    "  * code is easier to debug since it is easier to read and understand\n",
    "  * do more with less: your code is often shorter than it would otherwise be\n",
    "  * code will often run more slowly than with a lower-level language\n",
    "  \n",
    "#### Open Source\n",
    "  * Python and Jupyter are open source projects\n",
    "    * free for everyone to use (even commercially)\n",
    "  * Open source software:\n",
    "    * source code shared with all, often free to use/change/distribute\n",
    "    * many different open source licenses: Creative Commons, MIT, BSD\n",
    "    * may or may not require attribution to original author\n",
    "    * many open source projects on GitHub (github.com)\n"
   ]
  },
  {
   "cell_type": "markdown",
   "metadata": {},
   "source": [
    "## Working with cells in jupyter notebooks\n",
    "* let's learn how to add cells\n",
    "  * we'll also change between code and markdown"
   ]
  },
  {
   "cell_type": "markdown",
   "metadata": {},
   "source": [
    "## Comments"
   ]
  },
  {
   "cell_type": "code",
   "execution_count": 1,
   "metadata": {},
   "outputs": [
    {
     "name": "stdout",
     "output_type": "stream",
     "text": [
      "129 35\n",
      "3854\n"
     ]
    }
   ],
   "source": [
    "# comment in Python with hashes\n",
    "# add two numbers:\n",
    "print (82+47, 82-47)\n",
    "print (82*47)"
   ]
  },
  {
   "cell_type": "markdown",
   "metadata": {},
   "source": [
    "## Whitespace\n",
    "  * in Python, whitespace matters\n",
    "    * instead of curly braces, use four spaces to mark a block "
   ]
  },
  {
   "cell_type": "code",
   "execution_count": 2,
   "metadata": {},
   "outputs": [
    {
     "name": "stdout",
     "output_type": "stream",
     "text": [
      "1\n",
      "2\n",
      "3\n",
      "4\n",
      "5\n"
     ]
    }
   ],
   "source": [
    "# in this cell, print(n) is part of the block so it is repeated:\n",
    "\n",
    "num = 0\n",
    "\n",
    "for i in range(5):\n",
    "    num += 1\n",
    "    print(num)"
   ]
  },
  {
   "cell_type": "code",
   "execution_count": 3,
   "metadata": {},
   "outputs": [
    {
     "name": "stdout",
     "output_type": "stream",
     "text": [
      "5\n"
     ]
    }
   ],
   "source": [
    "# in this cell, print(n) is not part of the block so it only runs once:\n",
    "num = 0\n",
    "\n",
    "for i in range(5):\n",
    "    num += 1\n",
    "print(num)"
   ]
  },
  {
   "cell_type": "markdown",
   "metadata": {},
   "source": [
    "## Selection\n",
    "\n",
    "  * also known as decision statements or 'if-else' statements"
   ]
  },
  {
   "cell_type": "code",
   "execution_count": 4,
   "metadata": {},
   "outputs": [
    {
     "name": "stdout",
     "output_type": "stream",
     "text": [
      "Grab your heavy sweatshirt\n"
     ]
    }
   ],
   "source": [
    "# use 'elif' instead of 'else if'\n",
    "\n",
    "temp = 35\n",
    "isSunny = False\n",
    "\n",
    "if (temp < 20):\n",
    "    print(\"Please weat a winter jacket\")\n",
    "elif temp < 50:\n",
    "    print(\"Grab your heavy sweatshirt\")\n",
    "elif (temp > 80 or isSunny == True):\n",
    "    print(\"Make sure to wear sunscreen\")\n",
    "else:\n",
    "    print(\"Wear your favorite t-shirt\")"
   ]
  },
  {
   "cell_type": "markdown",
   "metadata": {},
   "source": [
    "## Iteration\n",
    "  * also known a loops ('for' and 'while')"
   ]
  },
  {
   "cell_type": "code",
   "execution_count": 14,
   "metadata": {},
   "outputs": [
    {
     "name": "stdout",
     "output_type": "stream",
     "text": [
      "0 \n",
      "\n",
      "1 \n",
      "\n",
      "2 \n",
      "\n",
      "3 \n",
      "\n",
      "4 \n",
      "\n",
      "5 \n",
      "\n",
      "6 \n",
      "\n"
     ]
    }
   ],
   "source": [
    "# count from 0 to 6:\n",
    "for i in range(7):\n",
    "    print(i, \"\\n\")"
   ]
  },
  {
   "cell_type": "code",
   "execution_count": 12,
   "metadata": {},
   "outputs": [
    {
     "name": "stdout",
     "output_type": "stream",
     "text": [
      "9 bottles of root beer on the wall... \n",
      "   Take one down, make a float... \n",
      "8 bottles of root beer on the wall... \n",
      "   Take one down, make a float... \n",
      "7 bottles of root beer on the wall... \n",
      "   Take one down, make a float... \n",
      "6 bottles of root beer on the wall... \n",
      "   Take one down, make a float... \n",
      "5 bottles of root beer on the wall... \n",
      "   Take one down, make a float... \n",
      "4 bottles of root beer on the wall... \n",
      "   Take one down, make a float... \n",
      "3 bottles of root beer on the wall... \n",
      "   Take one down, make a float... \n",
      "2 bottles of root beer on the wall... \n",
      "   Take one down, make a float... \n",
      "1 bottles of root beer on the wall... \n",
      "   Take one down, make a float... \n",
      "\n"
     ]
    }
   ],
   "source": [
    "# try a while loop\n",
    "# read code, THEN press Shift-Enter\n",
    "\n",
    "bottle_count = 9\n",
    "output = \"\"\n",
    "\n",
    "while bottle_count > 0:\n",
    "    output += str(bottle_count) + ' bottles of root beer on the wall... \\n' # str converts bottle_count to a string\n",
    "    output += '   Take one down, make a float... \\n'\n",
    "    bottle_count = bottle_count - 1\n",
    "\n",
    "\n",
    "print(output)"
   ]
  },
  {
   "cell_type": "markdown",
   "metadata": {},
   "source": [
    "## Writing Procedures\n",
    "\n",
    "  * using iteration and selection together"
   ]
  },
  {
   "cell_type": "code",
   "execution_count": 13,
   "metadata": {},
   "outputs": [
    {
     "name": "stdout",
     "output_type": "stream",
     "text": [
      "0 is an even number. \n",
      "\n",
      "Whitespace takes some time to understand.\n",
      "1 is an odd number. \n",
      "\n",
      "2 is an even number. \n",
      "\n",
      "Whitespace takes some time to understand.\n",
      "3 is an odd number. \n",
      "\n",
      "4 is an even number. \n",
      "\n",
      "Whitespace takes some time to understand.\n"
     ]
    }
   ],
   "source": [
    "# read this code, THEN press Shift-Enter\n",
    "for i in range(5):    #5 numbers, starting at 0 gives 0,1,2,3,4\n",
    "    if i % 2 == 1:\n",
    "        print(i,\"is an odd number. \\n\")\n",
    "    else:\n",
    "        print(i,\"is an even number. \\n\")\n",
    "        print(\"Whitespace takes some time to understand.\")\n",
    "        #change indentation of above line and predict output!"
   ]
  },
  {
   "cell_type": "code",
   "execution_count": 16,
   "metadata": {},
   "outputs": [
    {
     "name": "stdout",
     "output_type": "stream",
     "text": [
      "[0, 1, 2, 3, 'four']\n"
     ]
    }
   ],
   "source": [
    "# using the append method:\n",
    "num = 0\n",
    "my_array = []\n",
    "\n",
    "while num < 5:\n",
    "    if num != 4:\n",
    "        my_array.append(num)\n",
    "    else:\n",
    "        my_array.append(\"four\")\n",
    "    num += 1\n",
    "print(my_array)"
   ]
  },
  {
   "cell_type": "markdown",
   "metadata": {},
   "source": [
    "## Numbers and mathematical operators"
   ]
  },
  {
   "cell_type": "code",
   "execution_count": 17,
   "metadata": {},
   "outputs": [
    {
     "name": "stdout",
     "output_type": "stream",
     "text": [
      "129\n",
      "35\n",
      "3854\n"
     ]
    }
   ],
   "source": [
    " print(82+47) # addition\n",
    " print(82-47) # subtraction\n",
    " print(82*47) # multiplication"
   ]
  },
  {
   "cell_type": "code",
   "execution_count": 20,
   "metadata": {},
   "outputs": [
    {
     "name": "stdout",
     "output_type": "stream",
     "text": [
      "1.7446808510638299\n",
      "1\n",
      "35\n"
     ]
    }
   ],
   "source": [
    "print(82/47) # floating-point division (true division)\n",
    "print(82//47) # integer division\n",
    "print(82%47) # modulus operator"
   ]
  },
  {
   "cell_type": "code",
   "execution_count": 22,
   "metadata": {},
   "outputs": [
    {
     "name": "stdout",
     "output_type": "stream",
     "text": [
      "25\n"
     ]
    }
   ],
   "source": [
    "print(5**2) # 5 raised to the 2nd power (5^2)"
   ]
  },
  {
   "cell_type": "code",
   "execution_count": 233,
   "metadata": {},
   "outputs": [
    {
     "name": "stdout",
     "output_type": "stream",
     "text": [
      "49\n",
      "14\n",
      "25\n"
     ]
    }
   ],
   "source": [
    "# generate 3 random numbers between 10 and 50\n",
    "\n",
    "# import the random module:\n",
    "import random\n",
    "\n",
    "# for loop:\n",
    "for i in range(3):\n",
    "    random_num = random. randint(10,50)\n",
    "    print(random_num)"
   ]
  },
  {
   "cell_type": "code",
   "execution_count": 150,
   "metadata": {},
   "outputs": [
    {
     "name": "stdout",
     "output_type": "stream",
     "text": [
      "Object `random.randit` not found.\n"
     ]
    }
   ],
   "source": [
    "# access documentation\n",
    "?random.randit"
   ]
  },
  {
   "cell_type": "markdown",
   "metadata": {},
   "source": [
    "## Variables and Functions"
   ]
  },
  {
   "cell_type": "code",
   "execution_count": 168,
   "metadata": {},
   "outputs": [
    {
     "name": "stdout",
     "output_type": "stream",
     "text": [
      "100\n"
     ]
    }
   ],
   "source": [
    "# to create a variable, simply assign a value to it:\n",
    "my_grade = 100\n",
    "print(my_grade)"
   ]
  },
  {
   "cell_type": "code",
   "execution_count": 222,
   "metadata": {},
   "outputs": [
    {
     "name": "stdout",
     "output_type": "stream",
     "text": [
      "Your message is displayed below:\n",
      "Hello World!\n"
     ]
    }
   ],
   "source": [
    "# use def to define a function:\n",
    "def show_message(message):\n",
    "    print(\"Your message is displayed below:\")\n",
    "    print(message)\n",
    "    \n",
    "show_message(\"Hello World!\")"
   ]
  },
  {
   "cell_type": "markdown",
   "metadata": {},
   "source": [
    "## Strings"
   ]
  },
  {
   "cell_type": "code",
   "execution_count": 236,
   "metadata": {},
   "outputs": [
    {
     "name": "stdout",
     "output_type": "stream",
     "text": [
      "Hello, World! How are you?\n"
     ]
    }
   ],
   "source": [
    "# single or double quotes for strings, but be consistent\n",
    "my_message = \"Hello, World!\"\n",
    "your_message = \"How are you?\"\n",
    "\n",
    "print(my_message, your_message)"
   ]
  },
  {
   "cell_type": "code",
   "execution_count": 237,
   "metadata": {},
   "outputs": [
    {
     "name": "stdout",
     "output_type": "stream",
     "text": [
      "This is a new line \n",
      "of text\n"
     ]
    }
   ],
   "source": [
    "# backslash to encode special characters\n",
    "new_line = \"\\n\"     # finish this line with your teacher\n",
    "print('This is a new line ' + new_line + 'of text')"
   ]
  },
  {
   "cell_type": "code",
   "execution_count": 238,
   "metadata": {},
   "outputs": [
    {
     "name": "stdout",
     "output_type": "stream",
     "text": [
      "This will not give a \\n new line of text\n",
      "This will give a\n",
      "new line of text\n"
     ]
    }
   ],
   "source": [
    "# PRELOADED\n",
    "# r to represent a raw string (example: if you want a backslash to appear and not signify a new line)\n",
    "not_new_line = r\"\\n\"    # finish this line with your teacher\n",
    "new_line = \"\\n\"\n",
    "print('This will not give a ' + not_new_line + ' new line of text')\n",
    "print ('This will give a' + new_line + 'new line of text')"
   ]
  },
  {
   "cell_type": "code",
   "execution_count": 239,
   "metadata": {},
   "outputs": [
    {
     "name": "stdout",
     "output_type": "stream",
     "text": [
      "The Red Wheelbarrow\n",
      "William Carlos Williams\n",
      "\n",
      " so much depends\n",
      "upon\n",
      "\n",
      "a red wheel\n",
      "barrow\n",
      "\n",
      "glazed with rain\n",
      "water\n",
      "\n",
      "beside the white\n",
      "chickens.\n"
     ]
    }
   ],
   "source": [
    "# triple (double) quotes to create a multi-line string\n",
    "myMessage = \"\"\"The Red Wheelbarrow\n",
    "William Carlos Williams\n",
    "\n",
    " so much depends\n",
    "upon\n",
    "\n",
    "a red wheel\n",
    "barrow\n",
    "\n",
    "glazed with rain\n",
    "water\n",
    "\n",
    "beside the white\n",
    "chickens.\"\"\"\n",
    "print(myMessage)"
   ]
  },
  {
   "cell_type": "code",
   "execution_count": 8,
   "metadata": {},
   "outputs": [
    {
     "name": "stdout",
     "output_type": "stream",
     "text": [
      "1\n",
      "4\n",
      "9\n",
      "16\n",
      "25\n",
      "36\n",
      "49\n",
      "64\n",
      "81\n",
      "100\n",
      "121\n",
      "144\n",
      "169\n",
      "196\n",
      "225\n",
      "256\n",
      "289\n",
      "324\n",
      "361\n",
      "400\n",
      "441\n",
      "484\n",
      "529\n",
      "576\n",
      "625\n",
      "676\n",
      "729\n",
      "784\n",
      "841\n",
      "900\n",
      "961\n"
     ]
    }
   ],
   "source": [
    "## Task 1\n",
    "\n",
    "#Write a for-loop that prints out all positive perfect squares less than 31^2 that are not divisible by 3\n",
    "\n",
    "for i in range(32):\n",
    "    square = i**2\n",
    "    if square/3 != 0:\n",
    "        print(square)"
   ]
  },
  {
   "cell_type": "code",
   "execution_count": 9,
   "metadata": {},
   "outputs": [
    {
     "name": "stdout",
     "output_type": "stream",
     "text": [
      "Your message is displayed below:\n",
      "Hello World!\n"
     ]
    },
    {
     "ename": "NameError",
     "evalue": "name 'randint' is not defined",
     "output_type": "error",
     "traceback": [
      "\u001b[1;31m---------------------------------------------------------------------------\u001b[0m",
      "\u001b[1;31mNameError\u001b[0m                                 Traceback (most recent call last)",
      "Cell \u001b[1;32mIn[9], line 24\u001b[0m\n\u001b[0;32m     21\u001b[0m     \u001b[38;5;28;01melif\u001b[39;00m current_temp \u001b[38;5;241m<\u001b[39m \u001b[38;5;241m30\u001b[39m:\n\u001b[0;32m     22\u001b[0m         \u001b[38;5;28mprint\u001b[39m(\u001b[38;5;124m\"\u001b[39m\u001b[38;5;124m25 degrees is Chicago weather\u001b[39m\u001b[38;5;124m\"\u001b[39m)\n\u001b[1;32m---> 24\u001b[0m describe_temp(\u001b[43mrandint\u001b[49m(\u001b[38;5;241m0\u001b[39m,\u001b[38;5;241m100\u001b[39m))\n",
      "\u001b[1;31mNameError\u001b[0m: name 'randint' is not defined"
     ]
    }
   ],
   "source": [
    "## Task 2\n",
    "\n",
    "# * Part 1: define a function, describe_temp(current_temp), that returns a descriptive string that describes the current temperature\n",
    "#  * Sample outputs: \n",
    "#    * describe_temp(82) might return '82 degrees is beach weather!'\n",
    "#    * describe_temp(71) might return '71 degrees is barbecue weather!'\n",
    "#    * describe_temp(25) might return '25 degrees is Chicago weather.'\n",
    "\n",
    "# * Part 2: Write an expression that passes a random number from 0 to 100 to describe_temp \n",
    "def show_message(message):\n",
    "    print(\"Your message is displayed below:\")\n",
    "    print(message)\n",
    "    \n",
    "show_message(\"Hello World!\")\n",
    "\n",
    "def describe_temp(current_temp):\n",
    "    if current_temp > 80:\n",
    "        print(\"82 degrees is beach weather!\")\n",
    "    elif current_temp < 80 and current_temp > 30:\n",
    "        print(\"71 degrees is barbecue weather!\")\n",
    "    elif current_temp < 30:\n",
    "        print(\"25 degrees is Chicago weather\")\n",
    "        \n",
    "describe_temp(randint(0,100))\n",
    "        "
   ]
  },
  {
   "cell_type": "code",
   "execution_count": null,
   "metadata": {},
   "outputs": [],
   "source": []
  }
 ],
 "metadata": {
  "kernelspec": {
   "display_name": "Python 3 (ipykernel)",
   "language": "python",
   "name": "python3"
  },
  "language_info": {
   "codemirror_mode": {
    "name": "ipython",
    "version": 3
   },
   "file_extension": ".py",
   "mimetype": "text/x-python",
   "name": "python",
   "nbconvert_exporter": "python",
   "pygments_lexer": "ipython3",
   "version": "3.10.9"
  }
 },
 "nbformat": 4,
 "nbformat_minor": 1
}
