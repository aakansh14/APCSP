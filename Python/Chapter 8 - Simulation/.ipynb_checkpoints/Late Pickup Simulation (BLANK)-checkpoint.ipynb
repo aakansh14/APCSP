{
 "cells": [
  {
   "cell_type": "markdown",
   "metadata": {},
   "source": [
    "# Simulation Practice - Wait Time\n",
    "* Every morning, there is a 15% chance that your friend picks you up late on the way to school.\n",
    "    \n",
    "## How many school days in a row will typically pass until your friend is late?"
   ]
  },
  {
   "cell_type": "markdown",
   "metadata": {},
   "source": [
    "### Simulating a single day\n",
    "* Generate a random integer between 1 and 100\n",
    " * #'s 1-15 represent your friend showing up late\n",
    "      * 15% chance\n",
    " * #'s 16-100 represent your friend showing up on time\n",
    "      * 85% chance"
   ]
  },
  {
   "cell_type": "code",
   "execution_count": null,
   "metadata": {},
   "outputs": [],
   "source": [
    "# import the numpy package\n",
    "import numpy\n",
    "\n",
    "# Generate random number between 1-100\n",
    "single_day = numpy.random.randint(1,101)\n",
    "\n",
    "# Test the percentage ranges\n",
    "if single_day <= 15:\n",
    "    print(\"Late\")\n",
    "else:\n",
    "    print(\"On Time\")"
   ]
  },
  {
   "cell_type": "markdown",
   "metadata": {},
   "source": [
    "#### Copy and paste code into a function\n",
    "* Return a String of \"Late\" or \"On Time\"\n",
    "* Abstraction!"
   ]
  },
  {
   "cell_type": "code",
   "execution_count": null,
   "metadata": {},
   "outputs": [],
   "source": [
    "# Create a function to simulate a single day\n",
    "def single_day_trial():\n",
    "    # Generate random number between 1-100\n",
    "    single_day = numpy.random.randint(1,101)\n",
    "\n",
    "    # Test the percentage ranges\n",
    "    if single_day <= 15:\n",
    "        return(\"Late\")\n",
    "    else:\n",
    "        return(\"On Time\")"
   ]
  },
  {
   "cell_type": "code",
   "execution_count": null,
   "metadata": {},
   "outputs": [],
   "source": [
    "# Call the function and print its return value to verify it works!\n",
    "print(single_day_trial())"
   ]
  },
  {
   "cell_type": "markdown",
   "metadata": {},
   "source": [
    "### Simulate a single trial until your friend shows up late\n",
    "* Create a variable that tracks the number of consecutive days on time\n",
    "    * Start at 0!\n",
    "* Utilize a \"while\" loop\n",
    "    * While your single day trial returns \"On Time\", add one to your consecutive days variable\n",
    "* Print the variable tracking the number of consecutive days before your friend shows up late"
   ]
  },
  {
   "cell_type": "code",
   "execution_count": null,
   "metadata": {},
   "outputs": [],
   "source": [
    "#Import the numpy package\n",
    "import numpy as np\n",
    "\n",
    "# Create variables\n",
    "consecutive_days = 0\n",
    "\n",
    "# While loop\n",
    "while single_day_trial() == \"On Time\":\n",
    "    consecutive_days += 1\n",
    "    \n",
    "# Print results\n",
    "print(consecutive_days)"
   ]
  },
  {
   "cell_type": "markdown",
   "metadata": {},
   "source": [
    "#### Copy and paste code into a function\n",
    "* Return the number of consecutive days your friend showed up on time\n",
    "* Abstraction!"
   ]
  },
  {
   "cell_type": "code",
   "execution_count": null,
   "metadata": {},
   "outputs": [],
   "source": [
    "# Create a function that simulates a complete single trial\n"
   ]
  },
  {
   "cell_type": "code",
   "execution_count": null,
   "metadata": {},
   "outputs": [],
   "source": [
    "# Call the function and print its return value to verify it works!\n"
   ]
  },
  {
   "cell_type": "markdown",
   "metadata": {},
   "source": [
    "### Finding the average number of consecutive days until your friend shows up late\n",
    "* Create an array to hold your results\n",
    "* Create a loop to run 10000 times\n",
    "    * Add result of each consecutive days trial to the array"
   ]
  },
  {
   "cell_type": "code",
   "execution_count": null,
   "metadata": {},
   "outputs": [],
   "source": [
    "# Create variables\n",
    "\n",
    "\n",
    "# Create a loop that repeats a large number of trials (5 customers), in this case 10000 times\n",
    "\n",
    "    \n",
    "# Print the results\n"
   ]
  },
  {
   "cell_type": "markdown",
   "metadata": {},
   "source": [
    "### Analyze the results"
   ]
  },
  {
   "cell_type": "markdown",
   "metadata": {},
   "source": [
    "#### Calculate the sum of all trials in the list"
   ]
  },
  {
   "cell_type": "code",
   "execution_count": null,
   "metadata": {},
   "outputs": [],
   "source": [
    "# Create variables\n",
    "\n",
    "\n",
    "# Loop through each entry, adding it to the sum\n",
    "\n",
    "        \n",
    "# Print the results\n"
   ]
  },
  {
   "cell_type": "markdown",
   "metadata": {},
   "source": [
    "#### Calculate the average\n",
    "* Average = sum of trials / total trials"
   ]
  },
  {
   "cell_type": "code",
   "execution_count": null,
   "metadata": {},
   "outputs": [],
   "source": [
    "# Calculate the average\n",
    "\n",
    "\n",
    "# Print the results\n"
   ]
  },
  {
   "cell_type": "markdown",
   "metadata": {},
   "source": [
    "### Graph the results"
   ]
  },
  {
   "cell_type": "code",
   "execution_count": null,
   "metadata": {},
   "outputs": [],
   "source": [
    "# Count the results using bincount()\n"
   ]
  },
  {
   "cell_type": "markdown",
   "metadata": {},
   "source": [
    "## Histogram"
   ]
  },
  {
   "cell_type": "code",
   "execution_count": null,
   "metadata": {},
   "outputs": [],
   "source": [
    "import matplotlib.pyplot as plt #importing a module for plotting\n",
    "%matplotlib inline \n",
    "# this allows us to show graphs in a notebook\n",
    "\n",
    "# Create the bins array\n",
    "\n",
    "\n",
    "# plt.hist(array, dividers/bins, alignment, graph color, border color)\n",
    "plt.hist(   ***INSERT SOMETHING HERE***   ,   ***INSERT SOMETHING HERE***   ,align='mid',color=\"blue\",edgecolor='k')\n",
    "\n",
    "# Labels\n",
    "\n",
    "\n",
    "# Show\n",
    "plt.show()"
   ]
  },
  {
   "cell_type": "markdown",
   "metadata": {},
   "source": [
    "### \"Grouped\" Histogram"
   ]
  },
  {
   "cell_type": "code",
   "execution_count": null,
   "metadata": {},
   "outputs": [],
   "source": [
    "# Import matplotlib\n",
    "import matplotlib.pyplot as plt\n",
    "%matplotlib inline\n",
    "\n",
    "# Create bins array\n",
    "\n",
    "\n",
    "# Create title and lables\n",
    "\n",
    "\n",
    "# plt.hist(array, dividers/bins, alignment, graph color, border color)\n",
    "plt.hist(consecutive_days_results, bins, align=\"mid\", color=\"lightgreen\", edgecolor=\"black\")\n",
    "\n",
    "# Show\n",
    "plt.show()"
   ]
  },
  {
   "cell_type": "markdown",
   "metadata": {},
   "source": [
    "### Don't forget to answer the original question!\n",
    "* Answer should be in the form of a complete sentence"
   ]
  },
  {
   "cell_type": "markdown",
   "metadata": {},
   "source": []
  }
 ],
 "metadata": {
  "kernelspec": {
   "display_name": "Python 3 (ipykernel)",
   "language": "python",
   "name": "python3"
  },
  "language_info": {
   "codemirror_mode": {
    "name": "ipython",
    "version": 3
   },
   "file_extension": ".py",
   "mimetype": "text/x-python",
   "name": "python",
   "nbconvert_exporter": "python",
   "pygments_lexer": "ipython3",
   "version": "3.10.9"
  }
 },
 "nbformat": 4,
 "nbformat_minor": 2
}
