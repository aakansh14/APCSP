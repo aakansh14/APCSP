{
 "cells": [
  {
   "cell_type": "markdown",
   "metadata": {},
   "source": [
    "# Randomly Generate Dice Rolls\n",
    "* Use numpy.random.randint(min index, max index + 1, times to repeat)\n",
    "    * link: https://numpy.org/doc/stable/reference/random/generated/numpy.random.randint.html\n",
    "* You should generate numbers numbers between 1 and 6\n",
    "    * These are the values on the faces of a die\n",
    "* You should \"roll the die\" 1000 times\n",
    "    * That is, you should generate 1000 random numbers between 1 and 6 (inclusive)"
   ]
  },
  {
   "cell_type": "code",
   "execution_count": 9,
   "metadata": {
    "scrolled": false
   },
   "outputs": [
    {
     "name": "stdout",
     "output_type": "stream",
     "text": [
      "[2 4 6 3 3 2 2 3 6 4 4 5 6 3 3 2 1 3 4 5 5 6 5 5 1 4 4 4 1 1 6 4 1 5 2 5 6\n",
      " 5 1 1 2 2 4 1 2 6 1 6 3 3 6 1 3 4 5 5 6 1 6 4 1 5 4 1 5 2 3 5 5 1 3 2 5 1\n",
      " 6 6 4 4 6 6 1 2 2 4 2 5 6 5 5 3 1 5 3 1 2 1 4 3 4 2 3 4 5 3 5 2 6 1 4 3 6\n",
      " 6 4 2 1 4 6 1 4 1 5 6 5 1 2 6 3 5 2 5 4 6 2 5 1 3 5 4 1 3 3 5 3 3 1 5 5 1\n",
      " 4 6 2 4 6 5 3 1 4 1 4 4 5 4 3 6 4 6 2 2 5 6 3 5 5 6 3 1 4 2 4 5 2 3 1 6 4\n",
      " 5 4 4 6 2 5 5 6 2 2 2 3 6 3 5 1 1 5 3 3 5 1 5 5 2 3 5 5 5 5 2 2 3 4 4 4 4\n",
      " 5 5 6 4 3 3 1 1 2 3 2 5 4 1 4 6 5 2 1 2 4 5 3 5 5 4 2 3 4 6 1 5 5 6 1 4 3\n",
      " 1 1 2 3 3 6 5 1 5 3 5 2 2 2 5 3 6 2 2 2 5 4 2 5 6 2 6 2 6 5 2 2 4 5 5 4 4\n",
      " 1 1 1 1 3 1 3 6 2 5 6 5 2 6 3 5 5 5 5 4 5 4 2 4 3 1 3 1 1 4 3 6 1 2 2 4 4\n",
      " 5 6 1 5 2 3 3 5 1 1 3 5 3 1 4 3 3 1 2 1 2 3 3 5 5 1 3 1 2 2 2 1 3 2 5 1 3\n",
      " 5 2 6 5 6 4 1 2 3 5 6 3 5 4 3 3 5 2 3 1 4 2 3 4 1 4 2 6 3 2 3 2 1 5 4 1 2\n",
      " 5 4 1 1 2 5 5 6 6 5 3 4 4 5 1 5 2 1 4 6 6 4 1 3 2 4 3 6 6 2 4 4 2 2 2 5 6\n",
      " 3 6 3 3 1 2 4 2 1 3 6 1 3 4 5 3 6 2 5 1 5 4 1 1 4 6 3 1 6 4 1 5 4 5 5 1 1\n",
      " 6 1 6 6 3 2 6 6 4 1 6 2 1 1 6 2 3 6 1 3 4 1 3 3 4 2 5 3 5 2 5 2 2 4 5 1 2\n",
      " 3 5 6 5 4 4 3 4 1 2 5 3 3 6 1 2 6 5 3 1 5 1 2 3 4 3 3 3 2 4 5 3 4 5 5 1 4\n",
      " 6 2 1 4 4 6 2 3 3 1 1 4 1 1 5 2 3 6 6 5 5 3 2 2 1 2 4 3 3 6 2 1 5 1 4 1 4\n",
      " 5 3 5 6 4 6 1 4 5 3 6 6 2 4 3 4 4 4 2 2 2 6 1 4 4 3 1 3 6 2 1 5 6 5 5 3 1\n",
      " 3 3 5 4 6 5 5 1 1 4 5 3 2 1 6 5 4 3 1 5 5 5 1 4 5 5 5 2 1 2 2 1 2 2 3 6 3\n",
      " 4 3 4 3 3 2 2 6 2 1 3 2 2 4 3 5 3 6 5 2 5 4 1 6 4 6 4 1 4 6 4 1 2 1 4 5 3\n",
      " 5 6 2 1 4 3 2 5 6 5 6 1 1 3 2 1 5 2 3 5 3 2 1 4 3 2 5 5 5 6 6 3 6 4 6 2 3\n",
      " 3 1 4 5 3 3 5 1 3 3 1 2 2 4 3 6 6 3 6 3 4 5 3 2 1 5 6 5 6 2 4 1 4 4 3 5 3\n",
      " 4 1 4 5 5 1 4 1 5 2 1 4 2 4 3 2 1 1 5 4 4 6 5 6 3 3 5 2 3 1 1 4 2 2 2 5 2\n",
      " 3 2 5 3 1 6 1 2 4 3 5 5 6 6 6 1 5 2 1 2 3 5 5 5 1 1 6 2 2 6 5 3 1 6 6 3 6\n",
      " 5 6 3 6 5 1 3 2 1 2 5 4 5 2 6 3 3 2 4 2 6 5 5 4 3 5 3 3 1 1 2 6 1 3 1 4 2\n",
      " 4 6 3 3 2 3 2 4 6 2 4 2 3 6 2 4 6 4 4 3 4 1 4 4 2 4 4 1 5 3 3 4 3 6 1 1 4\n",
      " 5 5 5 5 5 4 6 2 2 5 5 1 1 3 4 2 3 2 6 1 6 3 5 2 2 1 3 2 4 2 2 1 2 3 1 4 5\n",
      " 4 4 5 3 6 2 5 6 1 4 5 6 5 5 2 1 2 2 5 4 5 4 5 6 3 1 4 3 5 6 4 5 6 5 4 4 2\n",
      " 2]\n"
     ]
    }
   ],
   "source": [
    "import numpy\n",
    "\n",
    "\n",
    "num_array = numpy.random.randint(1,7,1000)\n",
    "print(num_array)"
   ]
  },
  {
   "cell_type": "markdown",
   "metadata": {},
   "source": [
    "# Count the results using Bin Count\n",
    "* Useful method: numpy.bincount()\n",
    "* Counts the number of times a number appears in a list\n",
    "* Returns an array with counts\n",
    "  * link: https://numpy.org/doc/stable/reference/generated/numpy.bincount.html"
   ]
  },
  {
   "cell_type": "code",
   "execution_count": 10,
   "metadata": {},
   "outputs": [
    {
     "name": "stdout",
     "output_type": "stream",
     "text": [
      "[  0 165 170 172 164 193 136]\n",
      "The number 1 showed up 165 times.\n",
      "The number 2 showed up 170 times.\n",
      "The number 3 showed up 172 times.\n",
      "The number 4 showed up 164 times.\n",
      "The number 5 showed up 193 times.\n",
      "The number 6 showed up 136 times.\n"
     ]
    }
   ],
   "source": [
    "count_array = numpy.bincount(num_array)\n",
    "print(count_array)\n",
    "\n",
    "# print out a sentence for the user\n",
    "for i in range(6):\n",
    "    print(\"The number \" + str(i+1) + \" showed up \" + str(count_array[i+1]) + \" times.\")"
   ]
  },
  {
   "cell_type": "markdown",
   "metadata": {},
   "source": [
    "# Histogram\n",
    "* Useful method: np.random.choice()\n",
    "  * link: https://numpy.org/doc/stable/reference/random/generated/numpy.random.choice.html"
   ]
  },
  {
   "cell_type": "code",
   "execution_count": 47,
   "metadata": {},
   "outputs": [
    {
     "data": {
      "text/plain": [
       "Text(0, 0.5, 'Frequency')"
      ]
     },
     "execution_count": 47,
     "metadata": {},
     "output_type": "execute_result"
    },
    {
     "data": {
      "image/png": "[encoded data removed]",
      "text/plain": [
       "<Figure size 640x480 with 1 Axes>"
      ]
     },
     "metadata": {},
     "output_type": "display_data"
    }
   ],
   "source": [
    "import matplotlib.pyplot as plot\n",
    "\n",
    "# create a bins array to organzie our data\n",
    "bins = [1,2,3,4,5,6,7]\n",
    "\n",
    "# create an array of random colors\n",
    "rand_colors = [\"orange\", \"yellow\", \"magenta\", \"indigo\", \"lime\", \"salmon\"]\n",
    "\n",
    "# create histogram\n",
    "plot.hist(num_array, bins, align=\"left\", color=numpy.random.choice(rand_colors), edgecolor=\"#000000\")\n",
    "plot.title(\"Number Count\")\n",
    "plot.xlabel(\"Random Number Bins\")\n",
    "plot.ylabel(\"Frequency\")"
   ]
  },
  {
   "cell_type": "code",
   "execution_count": null,
   "metadata": {},
   "outputs": [],
   "source": []
  }
 ],
 "metadata": {
  "kernelspec": {
   "display_name": "Python 3 (ipykernel)",
   "language": "python",
   "name": "python3"
  },
  "language_info": {
   "codemirror_mode": {
    "name": "ipython",
    "version": 3
   },
   "file_extension": ".py",
   "mimetype": "text/x-python",
   "name": "python",
   "nbconvert_exporter": "python",
   "pygments_lexer": "ipython3",
   "version": "3.10.9"
  }
 },
 "nbformat": 4,
 "nbformat_minor": 2
}
